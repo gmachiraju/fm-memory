{
 "cells": [
  {
   "cell_type": "code",
   "execution_count": 1,
   "metadata": {},
   "outputs": [],
   "source": [
    "import meerkat as mk\n"
   ]
  },
  {
   "cell_type": "code",
   "execution_count": 3,
   "metadata": {},
   "outputs": [
    {
     "ename": "ValueError",
     "evalue": "Extraction method not found for /home/.meerkat/datasets/lvis/v1/downloads/e845be81736da4e7c19c490d563392c8b2c75ff2aa1467e0194f9ed6915938e5",
     "output_type": "error",
     "traceback": [
      "\u001b[0;31m---------------------------------------------------------------------------\u001b[0m",
      "\u001b[0;31mValueError\u001b[0m                                Traceback (most recent call last)",
      "Cell \u001b[0;32mIn[3], line 1\u001b[0m\n\u001b[0;32m----> 1\u001b[0m mk\u001b[39m.\u001b[39;49mget(\u001b[39m\"\u001b[39;49m\u001b[39mlvis\u001b[39;49m\u001b[39m\"\u001b[39;49m, download_mode\u001b[39m=\u001b[39;49m\u001b[39m\"\u001b[39;49m\u001b[39mforce\u001b[39;49m\u001b[39m\"\u001b[39;49m)\n",
      "File \u001b[0;32m~/envs/lib/python3.10/site-packages/meerkat/datasets/__init__.py:88\u001b[0m, in \u001b[0;36mget\u001b[0;34m(name, dataset_dir, version, download_mode, registry, **kwargs)\u001b[0m\n\u001b[1;32m     86\u001b[0m \u001b[39mif\u001b[39;00m registry \u001b[39m==\u001b[39m \u001b[39m\"\u001b[39m\u001b[39mmeerkat\u001b[39m\u001b[39m\"\u001b[39m:\n\u001b[1;32m     87\u001b[0m     \u001b[39mtry\u001b[39;00m:\n\u001b[0;32m---> 88\u001b[0m         dataset \u001b[39m=\u001b[39m datasets\u001b[39m.\u001b[39;49mget(\n\u001b[1;32m     89\u001b[0m             name\u001b[39m=\u001b[39;49mname,\n\u001b[1;32m     90\u001b[0m             dataset_dir\u001b[39m=\u001b[39;49mdataset_dir,\n\u001b[1;32m     91\u001b[0m             version\u001b[39m=\u001b[39;49mversion,\n\u001b[1;32m     92\u001b[0m             download_mode\u001b[39m=\u001b[39;49mdownload_mode,\n\u001b[1;32m     93\u001b[0m             \u001b[39m*\u001b[39;49m\u001b[39m*\u001b[39;49mkwargs,\n\u001b[1;32m     94\u001b[0m         )\n\u001b[1;32m     95\u001b[0m         \u001b[39mreturn\u001b[39;00m dataset\n\u001b[1;32m     96\u001b[0m     \u001b[39mexcept\u001b[39;00m \u001b[39mKeyError\u001b[39;00m \u001b[39mas\u001b[39;00m e:\n",
      "File \u001b[0;32m~/envs/lib/python3.10/site-packages/meerkat/datasets/registry.py:27\u001b[0m, in \u001b[0;36mRegistry.get\u001b[0;34m(self, name, **kwargs)\u001b[0m\n\u001b[1;32m     22\u001b[0m \u001b[39mif\u001b[39;00m ret \u001b[39mis\u001b[39;00m \u001b[39mNone\u001b[39;00m:\n\u001b[1;32m     23\u001b[0m     \u001b[39mraise\u001b[39;00m \u001b[39mKeyError\u001b[39;00m(\n\u001b[1;32m     24\u001b[0m         \u001b[39m\"\u001b[39m\u001b[39mNo object named \u001b[39m\u001b[39m'\u001b[39m\u001b[39m{}\u001b[39;00m\u001b[39m'\u001b[39m\u001b[39m found in \u001b[39m\u001b[39m'\u001b[39m\u001b[39m{}\u001b[39;00m\u001b[39m'\u001b[39m\u001b[39m registry!\u001b[39m\u001b[39m\"\u001b[39m\u001b[39m.\u001b[39mformat(name, \u001b[39mself\u001b[39m\u001b[39m.\u001b[39m_name)\n\u001b[1;32m     25\u001b[0m     )\n\u001b[0;32m---> 27\u001b[0m \u001b[39mreturn\u001b[39;00m ret(\u001b[39m*\u001b[39;49m\u001b[39m*\u001b[39;49mkwargs)()\n",
      "File \u001b[0;32m~/envs/lib/python3.10/site-packages/meerkat/datasets/abstract.py:57\u001b[0m, in \u001b[0;36mDatasetBuilder.__call__\u001b[0;34m(self)\u001b[0m\n\u001b[1;32m     53\u001b[0m \u001b[39mdef\u001b[39;00m \u001b[39m__call__\u001b[39m(\u001b[39mself\u001b[39m):\n\u001b[1;32m     54\u001b[0m     \u001b[39mif\u001b[39;00m \u001b[39mself\u001b[39m\u001b[39m.\u001b[39mdownload_mode \u001b[39min\u001b[39;00m [\u001b[39m\"\u001b[39m\u001b[39mforce\u001b[39m\u001b[39m\"\u001b[39m, \u001b[39m\"\u001b[39m\u001b[39mextract\u001b[39m\u001b[39m\"\u001b[39m] \u001b[39mor\u001b[39;00m (\n\u001b[1;32m     55\u001b[0m         \u001b[39mself\u001b[39m\u001b[39m.\u001b[39mdownload_mode \u001b[39m==\u001b[39m \u001b[39m\"\u001b[39m\u001b[39mreuse\u001b[39m\u001b[39m\"\u001b[39m \u001b[39mand\u001b[39;00m \u001b[39mnot\u001b[39;00m \u001b[39mself\u001b[39m\u001b[39m.\u001b[39mis_downloaded()\n\u001b[1;32m     56\u001b[0m     ):\n\u001b[0;32m---> 57\u001b[0m         \u001b[39mself\u001b[39;49m\u001b[39m.\u001b[39;49mdownload()\n\u001b[1;32m     58\u001b[0m         \u001b[39mself\u001b[39m\u001b[39m.\u001b[39mdump_download_meta()\n\u001b[1;32m     60\u001b[0m     \u001b[39mif\u001b[39;00m \u001b[39mnot\u001b[39;00m \u001b[39mself\u001b[39m\u001b[39m.\u001b[39mis_downloaded():\n",
      "File \u001b[0;32m~/envs/lib/python3.10/site-packages/meerkat/datasets/lvis/__init__.py:182\u001b[0m, in \u001b[0;36mlvis.download\u001b[0;34m(self)\u001b[0m\n\u001b[1;32m    176\u001b[0m \u001b[39mif\u001b[39;00m split \u001b[39m!=\u001b[39m \u001b[39m\"\u001b[39m\u001b[39mtest\u001b[39m\u001b[39m\"\u001b[39m:\n\u001b[1;32m    177\u001b[0m     \u001b[39m# no test labels\u001b[39;00m\n\u001b[1;32m    178\u001b[0m     downloaded_path \u001b[39m=\u001b[39m download_url(\n\u001b[1;32m    179\u001b[0m         LABEL_URL\u001b[39m.\u001b[39mformat(version\u001b[39m=\u001b[39m\u001b[39mself\u001b[39m\u001b[39m.\u001b[39mversion, split\u001b[39m=\u001b[39msplit),\n\u001b[1;32m    180\u001b[0m         \u001b[39mself\u001b[39m\u001b[39m.\u001b[39mdataset_dir,\n\u001b[1;32m    181\u001b[0m     )\n\u001b[0;32m--> 182\u001b[0m     extract(downloaded_path, \u001b[39mself\u001b[39;49m\u001b[39m.\u001b[39;49mdataset_dir)\n",
      "File \u001b[0;32m~/envs/lib/python3.10/site-packages/meerkat/datasets/utils.py:44\u001b[0m, in \u001b[0;36mextract\u001b[0;34m(path, dst, extractor)\u001b[0m\n\u001b[1;32m     42\u001b[0m     \u001b[39mif\u001b[39;00m extractor\u001b[39m.\u001b[39mis_extractable(path):\n\u001b[1;32m     43\u001b[0m         \u001b[39mreturn\u001b[39;00m extractor\u001b[39m.\u001b[39mextract(path, dst)\n\u001b[0;32m---> 44\u001b[0m \u001b[39mraise\u001b[39;00m \u001b[39mValueError\u001b[39;00m(\u001b[39m\"\u001b[39m\u001b[39mExtraction method not found for \u001b[39m\u001b[39m{}\u001b[39;00m\u001b[39m\"\u001b[39m\u001b[39m.\u001b[39mformat(path))\n",
      "\u001b[0;31mValueError\u001b[0m: Extraction method not found for /home/.meerkat/datasets/lvis/v1/downloads/e845be81736da4e7c19c490d563392c8b2c75ff2aa1467e0194f9ed6915938e5"
     ]
    }
   ],
   "source": [
    "mk.get(\"lvis\", download_mode=\"force\")"
   ]
  },
  {
   "cell_type": "code",
   "execution_count": null,
   "metadata": {},
   "outputs": [],
   "source": []
  }
 ],
 "metadata": {
  "kernelspec": {
   "display_name": "Python 3",
   "language": "python",
   "name": "python3"
  },
  "language_info": {
   "codemirror_mode": {
    "name": "ipython",
    "version": 3
   },
   "file_extension": ".py",
   "mimetype": "text/x-python",
   "name": "python",
   "nbconvert_exporter": "python",
   "pygments_lexer": "ipython3",
   "version": "3.10.9"
  },
  "orig_nbformat": 4
 },
 "nbformat": 4,
 "nbformat_minor": 2
}
